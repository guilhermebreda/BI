{
 "cells": [
  {
   "cell_type": "markdown",
   "id": "d267fd24-32bb-4230-ae27-278071819fab",
   "metadata": {},
   "source": [
    "# Exploratory Analysis — Operations Intelligence Challenge\n",
    "\n",
    "**Author:** Guilherme Breda Rezende  \n",
    "**Purpose:** Concise exploratory notebook to validate the dataset, run basic ETL checks, compute core KPIs, and produce preliminary visualizations prior to dashboarding in Looker Studio.\n",
    "\n",
    "**Inputs**\n",
    "- `Operations_analyst_data.csv` — transaction dataset provided in the challenge.\n",
    "\n",
    "**Notes**\n",
    "- Visuals are created with **matplotlib** (no seaborn).\n",
    "- The notebook is intentionally concise and focused on the minimum exploration needed to inform the dashboard design."
   ]
  },
  {
   "cell_type": "code",
   "execution_count": 2,
   "id": "dc9a5836-26d9-419a-b241-cd5defc99cbe",
   "metadata": {},
   "outputs": [],
   "source": [
    "# Standard libraries\n",
    "import pandas as pd\n",
    "import numpy as np\n",
    "import matplotlib.pyplot as plt\n",
    "\n",
    "# Display options for readability\n",
    "pd.set_option(\"display.max_columns\", None)\n",
    "pd.set_option(\"display.float_format\", lambda v: f\"{v:,.2f}\")"
   ]
  },
  {
   "cell_type": "markdown",
   "id": "1e0b7dd4-5565-4a7b-be81-f388e07e3ec5",
   "metadata": {},
   "source": [
    "### Load Data & Normalize Columns"
   ]
  },
  {
   "cell_type": "code",
   "execution_count": 3,
   "id": "be07f2ae-3a99-4647-96c9-9df97d848209",
   "metadata": {},
   "outputs": [
    {
     "name": "stdout",
     "output_type": "stream",
     "text": [
      "Shape: (37787, 10)\n"
     ]
    },
    {
     "data": {
      "text/html": [
       "<div>\n",
       "<style scoped>\n",
       "    .dataframe tbody tr th:only-of-type {\n",
       "        vertical-align: middle;\n",
       "    }\n",
       "\n",
       "    .dataframe tbody tr th {\n",
       "        vertical-align: top;\n",
       "    }\n",
       "\n",
       "    .dataframe thead th {\n",
       "        text-align: right;\n",
       "    }\n",
       "</style>\n",
       "<table border=\"1\" class=\"dataframe\">\n",
       "  <thead>\n",
       "    <tr style=\"text-align: right;\">\n",
       "      <th></th>\n",
       "      <th>day</th>\n",
       "      <th>entity</th>\n",
       "      <th>product</th>\n",
       "      <th>price_tier</th>\n",
       "      <th>anticipation_method</th>\n",
       "      <th>payment_method</th>\n",
       "      <th>installments</th>\n",
       "      <th>amount_transacted</th>\n",
       "      <th>quantity_transactions</th>\n",
       "      <th>quantity_of_merchants</th>\n",
       "    </tr>\n",
       "  </thead>\n",
       "  <tbody>\n",
       "    <tr>\n",
       "      <th>0</th>\n",
       "      <td>2025-01-01</td>\n",
       "      <td>PJ</td>\n",
       "      <td>pix</td>\n",
       "      <td>intermediary</td>\n",
       "      <td>Pix</td>\n",
       "      <td>uninformed</td>\n",
       "      <td>1</td>\n",
       "      <td>546,030.68</td>\n",
       "      <td>13361</td>\n",
       "      <td>675</td>\n",
       "    </tr>\n",
       "    <tr>\n",
       "      <th>1</th>\n",
       "      <td>2025-01-01</td>\n",
       "      <td>PJ</td>\n",
       "      <td>pos</td>\n",
       "      <td>intermediary</td>\n",
       "      <td>D1Anticipation</td>\n",
       "      <td>credit</td>\n",
       "      <td>1</td>\n",
       "      <td>574,568.13</td>\n",
       "      <td>9104</td>\n",
       "      <td>694</td>\n",
       "    </tr>\n",
       "    <tr>\n",
       "      <th>2</th>\n",
       "      <td>2025-01-01</td>\n",
       "      <td>PJ</td>\n",
       "      <td>tap</td>\n",
       "      <td>normal</td>\n",
       "      <td>D0/Nitro</td>\n",
       "      <td>credit</td>\n",
       "      <td>1</td>\n",
       "      <td>342,178.87</td>\n",
       "      <td>2655</td>\n",
       "      <td>1607</td>\n",
       "    </tr>\n",
       "    <tr>\n",
       "      <th>3</th>\n",
       "      <td>2025-01-01</td>\n",
       "      <td>PJ</td>\n",
       "      <td>tap</td>\n",
       "      <td>domination</td>\n",
       "      <td>D1Anticipation</td>\n",
       "      <td>debit</td>\n",
       "      <td>1</td>\n",
       "      <td>1,183.21</td>\n",
       "      <td>63</td>\n",
       "      <td>9</td>\n",
       "    </tr>\n",
       "    <tr>\n",
       "      <th>4</th>\n",
       "      <td>2025-01-01</td>\n",
       "      <td>PJ</td>\n",
       "      <td>tap</td>\n",
       "      <td>aggressive</td>\n",
       "      <td>D0/Nitro</td>\n",
       "      <td>credit</td>\n",
       "      <td>1</td>\n",
       "      <td>10,158.11</td>\n",
       "      <td>30</td>\n",
       "      <td>20</td>\n",
       "    </tr>\n",
       "  </tbody>\n",
       "</table>\n",
       "</div>"
      ],
      "text/plain": [
       "          day entity product    price_tier anticipation_method payment_method  \\\n",
       "0  2025-01-01     PJ     pix  intermediary                 Pix     uninformed   \n",
       "1  2025-01-01     PJ     pos  intermediary      D1Anticipation         credit   \n",
       "2  2025-01-01     PJ     tap        normal            D0/Nitro         credit   \n",
       "3  2025-01-01     PJ     tap    domination      D1Anticipation          debit   \n",
       "4  2025-01-01     PJ     tap    aggressive            D0/Nitro         credit   \n",
       "\n",
       "   installments  amount_transacted  quantity_transactions  \\\n",
       "0             1         546,030.68                  13361   \n",
       "1             1         574,568.13                   9104   \n",
       "2             1         342,178.87                   2655   \n",
       "3             1           1,183.21                     63   \n",
       "4             1          10,158.11                     30   \n",
       "\n",
       "   quantity_of_merchants  \n",
       "0                    675  \n",
       "1                    694  \n",
       "2                   1607  \n",
       "3                      9  \n",
       "4                     20  "
      ]
     },
     "execution_count": 3,
     "metadata": {},
     "output_type": "execute_result"
    }
   ],
   "source": [
    "# Path to CSV (expected in the repo root). Adjust if you place it under /data.\n",
    "CSV_PATH = \"Operations_analyst_data.csv\"\n",
    "\n",
    "# Load\n",
    "df = pd.read_csv(CSV_PATH)\n",
    "\n",
    "# Normalize column names to snake_case for convenience\n",
    "df.columns = [c.strip().lower().replace(\" \", \"_\") for c in df.columns]\n",
    "\n",
    "# Preview\n",
    "print(\"Shape:\", df.shape)\n",
    "df.head()"
   ]
  },
  {
   "cell_type": "markdown",
   "id": "a71fa809-3a71-431b-abf4-c0ca0670754b",
   "metadata": {},
   "source": [
    "### Data Quality Checks "
   ]
  },
  {
   "cell_type": "code",
   "execution_count": 4,
   "id": "ddb486d5-4d26-47a9-896b-d7bbadca82b3",
   "metadata": {},
   "outputs": [
    {
     "name": "stdout",
     "output_type": "stream",
     "text": [
      "\n",
      ".info():\n",
      "<class 'pandas.core.frame.DataFrame'>\n",
      "RangeIndex: 37787 entries, 0 to 37786\n",
      "Data columns (total 10 columns):\n",
      " #   Column                 Non-Null Count  Dtype  \n",
      "---  ------                 --------------  -----  \n",
      " 0   day                    37787 non-null  object \n",
      " 1   entity                 37787 non-null  object \n",
      " 2   product                37787 non-null  object \n",
      " 3   price_tier             37787 non-null  object \n",
      " 4   anticipation_method    37787 non-null  object \n",
      " 5   payment_method         37787 non-null  object \n",
      " 6   installments           37787 non-null  int64  \n",
      " 7   amount_transacted      37787 non-null  float64\n",
      " 8   quantity_transactions  37787 non-null  int64  \n",
      " 9   quantity_of_merchants  37787 non-null  int64  \n",
      "dtypes: float64(1), int64(3), object(6)\n",
      "memory usage: 2.9+ MB\n",
      "None\n",
      "\n",
      "Nulls per column:\n",
      "day                      0\n",
      "entity                   0\n",
      "product                  0\n",
      "price_tier               0\n",
      "anticipation_method      0\n",
      "payment_method           0\n",
      "installments             0\n",
      "amount_transacted        0\n",
      "quantity_transactions    0\n",
      "quantity_of_merchants    0\n",
      "dtype: int64\n",
      "\n",
      "Duplicate rows: 0\n",
      "\n",
      "Describe (key numeric columns):\n",
      "       amount_transacted  quantity_transactions\n",
      "count          37,787.00              37,787.00\n",
      "mean          514,532.37               3,876.89\n",
      "std         1,573,947.11              26,790.76\n",
      "min                 1.00                   1.00\n",
      "25%             4,842.70                   4.00\n",
      "50%            35,846.06                  28.00\n",
      "75%           330,312.30                 361.00\n",
      "max        28,088,890.22             541,644.00\n"
     ]
    }
   ],
   "source": [
    "# Types & non-null counts\n",
    "print(\"\\n.info():\")\n",
    "print(df.info())\n",
    "\n",
    "# Nulls by column\n",
    "print(\"\\nNulls per column:\")\n",
    "print(df.isna().sum())\n",
    "\n",
    "# Duplicates\n",
    "dup_count = df.duplicated().sum()\n",
    "print(f\"\\nDuplicate rows: {dup_count}\")\n",
    "\n",
    "# Basic numeric sanity (min/max) for key metrics\n",
    "numeric_cols = [\"amount_transacted\", \"quantity_transactions\", \"quantitu_of_merchants\"]\n",
    "present_cols = [c for c in numeric_cols if c in df.columns]\n",
    "print(\"\\nDescribe (key numeric columns):\")\n",
    "print(df[present_cols].describe())"
   ]
  },
  {
   "cell_type": "markdown",
   "id": "fc72607b-a7ec-4fc3-94f4-427497466eb3",
   "metadata": {},
   "source": [
    "### Minimal Transformations"
   ]
  },
  {
   "cell_type": "code",
   "execution_count": 5,
   "id": "5872e902-899e-48a1-93d5-67436d4ac035",
   "metadata": {},
   "outputs": [
    {
     "data": {
      "text/html": [
       "<div>\n",
       "<style scoped>\n",
       "    .dataframe tbody tr th:only-of-type {\n",
       "        vertical-align: middle;\n",
       "    }\n",
       "\n",
       "    .dataframe tbody tr th {\n",
       "        vertical-align: top;\n",
       "    }\n",
       "\n",
       "    .dataframe thead th {\n",
       "        text-align: right;\n",
       "    }\n",
       "</style>\n",
       "<table border=\"1\" class=\"dataframe\">\n",
       "  <thead>\n",
       "    <tr style=\"text-align: right;\">\n",
       "      <th></th>\n",
       "      <th>day</th>\n",
       "      <th>weekday</th>\n",
       "      <th>amount_transacted</th>\n",
       "      <th>quantity_transactions</th>\n",
       "      <th>quantity_of_merchants</th>\n",
       "      <th>avg_ticket_row</th>\n",
       "    </tr>\n",
       "  </thead>\n",
       "  <tbody>\n",
       "    <tr>\n",
       "      <th>0</th>\n",
       "      <td>2025-01-01</td>\n",
       "      <td>Wednesday</td>\n",
       "      <td>546,030.68</td>\n",
       "      <td>13361</td>\n",
       "      <td>675</td>\n",
       "      <td>40.87</td>\n",
       "    </tr>\n",
       "    <tr>\n",
       "      <th>1</th>\n",
       "      <td>2025-01-01</td>\n",
       "      <td>Wednesday</td>\n",
       "      <td>574,568.13</td>\n",
       "      <td>9104</td>\n",
       "      <td>694</td>\n",
       "      <td>63.11</td>\n",
       "    </tr>\n",
       "    <tr>\n",
       "      <th>2</th>\n",
       "      <td>2025-01-01</td>\n",
       "      <td>Wednesday</td>\n",
       "      <td>342,178.87</td>\n",
       "      <td>2655</td>\n",
       "      <td>1607</td>\n",
       "      <td>128.88</td>\n",
       "    </tr>\n",
       "    <tr>\n",
       "      <th>3</th>\n",
       "      <td>2025-01-01</td>\n",
       "      <td>Wednesday</td>\n",
       "      <td>1,183.21</td>\n",
       "      <td>63</td>\n",
       "      <td>9</td>\n",
       "      <td>18.78</td>\n",
       "    </tr>\n",
       "    <tr>\n",
       "      <th>4</th>\n",
       "      <td>2025-01-01</td>\n",
       "      <td>Wednesday</td>\n",
       "      <td>10,158.11</td>\n",
       "      <td>30</td>\n",
       "      <td>20</td>\n",
       "      <td>338.60</td>\n",
       "    </tr>\n",
       "  </tbody>\n",
       "</table>\n",
       "</div>"
      ],
      "text/plain": [
       "         day    weekday  amount_transacted  quantity_transactions  \\\n",
       "0 2025-01-01  Wednesday         546,030.68                  13361   \n",
       "1 2025-01-01  Wednesday         574,568.13                   9104   \n",
       "2 2025-01-01  Wednesday         342,178.87                   2655   \n",
       "3 2025-01-01  Wednesday           1,183.21                     63   \n",
       "4 2025-01-01  Wednesday          10,158.11                     30   \n",
       "\n",
       "   quantity_of_merchants  avg_ticket_row  \n",
       "0                    675           40.87  \n",
       "1                    694           63.11  \n",
       "2                   1607          128.88  \n",
       "3                      9           18.78  \n",
       "4                     20          338.60  "
      ]
     },
     "execution_count": 5,
     "metadata": {},
     "output_type": "execute_result"
    }
   ],
   "source": [
    "# Parse date column\n",
    "if \"day\" in df.columns:\n",
    "    df[\"day\"] = pd.to_datetime(df[\"day\"], errors=\"coerce\")\n",
    "    # Weekday for later plots/aggregation\n",
    "    df[\"weekday\"] = df[\"day\"].dt.day_name()\n",
    "\n",
    "# Ensure numeric columns are numeric (coerce any unexpected strings)\n",
    "for col in [\"amount_transacted\", \"quantity_transactions\", \"quantity_of_merchants\"]:\n",
    "    if col in df.columns:\n",
    "        df[col] = pd.to_numeric(df[col], errors=\"coerce\")\n",
    "\n",
    "# Derived metric: Average Ticket per row (safe division)\n",
    "df[\"avg_ticket_row\"] = df[\"amount_transacted\"] / df[\"quantity_transactions\"].replace(0, np.nan)\n",
    "\n",
    "# Quick look at transformed columns\n",
    "df[[\"day\",\"weekday\",\"amount_transacted\",\"quantity_transactions\",\"quantity_of_merchants\",\"avg_ticket_row\"]].head()"
   ]
  },
  {
   "cell_type": "markdown",
   "id": "954bb508-1fb6-4285-a0be-779239f20a72",
   "metadata": {},
   "source": [
    "### Core KPIs"
   ]
  },
  {
   "cell_type": "code",
   "execution_count": 6,
   "id": "8eab2a72-7dd6-488d-a22a-30e9b1bd66a1",
   "metadata": {},
   "outputs": [
    {
     "name": "stdout",
     "output_type": "stream",
     "text": [
      "Total Payment Volume (TPV): R$ 19,442,634,813.40\n",
      "Total Transactions: 146,496,103\n",
      "Average Ticket: R$ 132.72\n",
      "Total Merchants: nan\n"
     ]
    }
   ],
   "source": [
    "TPV = df[\"amount_transacted\"].sum()\n",
    "total_tx = df[\"quantity_transactions\"].sum()\n",
    "avg_ticket = TPV / total_tx if total_tx else np.nan\n",
    "total_merchants = df[\"quantitu_of_merchants\"].sum() if \"quantitu_of_merchants\" in df.columns else np.nan\n",
    "\n",
    "print(f\"Total Payment Volume (TPV): R$ {TPV:,.2f}\")\n",
    "print(f\"Total Transactions: {total_tx:,.0f}\")\n",
    "print(f\"Average Ticket: R$ {avg_ticket:,.2f}\")\n",
    "print(f\"Total Merchants: {total_merchants:,.0f}\")"
   ]
  },
  {
   "cell_type": "markdown",
   "id": "fa4ec337-1df6-4b4f-96cd-fdce4d70a2e0",
   "metadata": {},
   "source": [
    "### Segment Summaries"
   ]
  },
  {
   "cell_type": "code",
   "execution_count": 7,
   "id": "66993304-6d18-4ec5-a0c8-77cc008b389b",
   "metadata": {},
   "outputs": [
    {
     "name": "stdout",
     "output_type": "stream",
     "text": [
      "\n",
      "TPV by entity (top):\n"
     ]
    },
    {
     "data": {
      "text/html": [
       "<div>\n",
       "<style scoped>\n",
       "    .dataframe tbody tr th:only-of-type {\n",
       "        vertical-align: middle;\n",
       "    }\n",
       "\n",
       "    .dataframe tbody tr th {\n",
       "        vertical-align: top;\n",
       "    }\n",
       "\n",
       "    .dataframe thead th {\n",
       "        text-align: right;\n",
       "    }\n",
       "</style>\n",
       "<table border=\"1\" class=\"dataframe\">\n",
       "  <thead>\n",
       "    <tr style=\"text-align: right;\">\n",
       "      <th></th>\n",
       "      <th>entity</th>\n",
       "      <th>tpv</th>\n",
       "    </tr>\n",
       "  </thead>\n",
       "  <tbody>\n",
       "    <tr>\n",
       "      <th>1</th>\n",
       "      <td>PJ</td>\n",
       "      <td>13,470,818,904.53</td>\n",
       "    </tr>\n",
       "    <tr>\n",
       "      <th>0</th>\n",
       "      <td>PF</td>\n",
       "      <td>5,971,815,908.87</td>\n",
       "    </tr>\n",
       "  </tbody>\n",
       "</table>\n",
       "</div>"
      ],
      "text/plain": [
       "  entity               tpv\n",
       "1     PJ 13,470,818,904.53\n",
       "0     PF  5,971,815,908.87"
      ]
     },
     "metadata": {},
     "output_type": "display_data"
    },
    {
     "name": "stdout",
     "output_type": "stream",
     "text": [
      "\n",
      "TPV by product (top):\n"
     ]
    },
    {
     "data": {
      "text/html": [
       "<div>\n",
       "<style scoped>\n",
       "    .dataframe tbody tr th:only-of-type {\n",
       "        vertical-align: middle;\n",
       "    }\n",
       "\n",
       "    .dataframe tbody tr th {\n",
       "        vertical-align: top;\n",
       "    }\n",
       "\n",
       "    .dataframe thead th {\n",
       "        text-align: right;\n",
       "    }\n",
       "</style>\n",
       "<table border=\"1\" class=\"dataframe\">\n",
       "  <thead>\n",
       "    <tr style=\"text-align: right;\">\n",
       "      <th></th>\n",
       "      <th>product</th>\n",
       "      <th>tpv</th>\n",
       "    </tr>\n",
       "  </thead>\n",
       "  <tbody>\n",
       "    <tr>\n",
       "      <th>3</th>\n",
       "      <td>pos</td>\n",
       "      <td>8,239,753,310.86</td>\n",
       "    </tr>\n",
       "    <tr>\n",
       "      <th>4</th>\n",
       "      <td>tap</td>\n",
       "      <td>6,251,407,824.11</td>\n",
       "    </tr>\n",
       "    <tr>\n",
       "      <th>2</th>\n",
       "      <td>pix</td>\n",
       "      <td>2,475,733,648.08</td>\n",
       "    </tr>\n",
       "    <tr>\n",
       "      <th>1</th>\n",
       "      <td>link</td>\n",
       "      <td>2,433,700,569.84</td>\n",
       "    </tr>\n",
       "    <tr>\n",
       "      <th>0</th>\n",
       "      <td>bank_slip</td>\n",
       "      <td>42,039,460.51</td>\n",
       "    </tr>\n",
       "  </tbody>\n",
       "</table>\n",
       "</div>"
      ],
      "text/plain": [
       "     product              tpv\n",
       "3        pos 8,239,753,310.86\n",
       "4        tap 6,251,407,824.11\n",
       "2        pix 2,475,733,648.08\n",
       "1       link 2,433,700,569.84\n",
       "0  bank_slip    42,039,460.51"
      ]
     },
     "metadata": {},
     "output_type": "display_data"
    },
    {
     "name": "stdout",
     "output_type": "stream",
     "text": [
      "\n",
      "TPV by payment method (top):\n"
     ]
    },
    {
     "data": {
      "text/html": [
       "<div>\n",
       "<style scoped>\n",
       "    .dataframe tbody tr th:only-of-type {\n",
       "        vertical-align: middle;\n",
       "    }\n",
       "\n",
       "    .dataframe tbody tr th {\n",
       "        vertical-align: top;\n",
       "    }\n",
       "\n",
       "    .dataframe thead th {\n",
       "        text-align: right;\n",
       "    }\n",
       "</style>\n",
       "<table border=\"1\" class=\"dataframe\">\n",
       "  <thead>\n",
       "    <tr style=\"text-align: right;\">\n",
       "      <th></th>\n",
       "      <th>payment_method</th>\n",
       "      <th>tpv</th>\n",
       "    </tr>\n",
       "  </thead>\n",
       "  <tbody>\n",
       "    <tr>\n",
       "      <th>0</th>\n",
       "      <td>credit</td>\n",
       "      <td>14,432,922,548.14</td>\n",
       "    </tr>\n",
       "    <tr>\n",
       "      <th>2</th>\n",
       "      <td>uninformed</td>\n",
       "      <td>2,517,773,108.59</td>\n",
       "    </tr>\n",
       "    <tr>\n",
       "      <th>1</th>\n",
       "      <td>debit</td>\n",
       "      <td>2,491,939,156.67</td>\n",
       "    </tr>\n",
       "  </tbody>\n",
       "</table>\n",
       "</div>"
      ],
      "text/plain": [
       "  payment_method               tpv\n",
       "0         credit 14,432,922,548.14\n",
       "2     uninformed  2,517,773,108.59\n",
       "1          debit  2,491,939,156.67"
      ]
     },
     "metadata": {},
     "output_type": "display_data"
    },
    {
     "name": "stdout",
     "output_type": "stream",
     "text": [
      "\n",
      "Average ticket by product (top):\n"
     ]
    },
    {
     "data": {
      "text/html": [
       "<div>\n",
       "<style scoped>\n",
       "    .dataframe tbody tr th:only-of-type {\n",
       "        vertical-align: middle;\n",
       "    }\n",
       "\n",
       "    .dataframe tbody tr th {\n",
       "        vertical-align: top;\n",
       "    }\n",
       "\n",
       "    .dataframe thead th {\n",
       "        text-align: right;\n",
       "    }\n",
       "</style>\n",
       "<table border=\"1\" class=\"dataframe\">\n",
       "  <thead>\n",
       "    <tr style=\"text-align: right;\">\n",
       "      <th></th>\n",
       "      <th>product</th>\n",
       "      <th>tpv</th>\n",
       "      <th>tx</th>\n",
       "      <th>avg_ticket</th>\n",
       "    </tr>\n",
       "  </thead>\n",
       "  <tbody>\n",
       "    <tr>\n",
       "      <th>0</th>\n",
       "      <td>bank_slip</td>\n",
       "      <td>42,039,460.51</td>\n",
       "      <td>56673</td>\n",
       "      <td>741.79</td>\n",
       "    </tr>\n",
       "    <tr>\n",
       "      <th>1</th>\n",
       "      <td>link</td>\n",
       "      <td>2,433,700,569.84</td>\n",
       "      <td>3766077</td>\n",
       "      <td>646.22</td>\n",
       "    </tr>\n",
       "    <tr>\n",
       "      <th>4</th>\n",
       "      <td>tap</td>\n",
       "      <td>6,251,407,824.11</td>\n",
       "      <td>21025545</td>\n",
       "      <td>297.32</td>\n",
       "    </tr>\n",
       "    <tr>\n",
       "      <th>3</th>\n",
       "      <td>pos</td>\n",
       "      <td>8,239,753,310.86</td>\n",
       "      <td>76966733</td>\n",
       "      <td>107.06</td>\n",
       "    </tr>\n",
       "    <tr>\n",
       "      <th>2</th>\n",
       "      <td>pix</td>\n",
       "      <td>2,475,733,648.08</td>\n",
       "      <td>44681075</td>\n",
       "      <td>55.41</td>\n",
       "    </tr>\n",
       "  </tbody>\n",
       "</table>\n",
       "</div>"
      ],
      "text/plain": [
       "     product              tpv        tx  avg_ticket\n",
       "0  bank_slip    42,039,460.51     56673      741.79\n",
       "1       link 2,433,700,569.84   3766077      646.22\n",
       "4        tap 6,251,407,824.11  21025545      297.32\n",
       "3        pos 8,239,753,310.86  76966733      107.06\n",
       "2        pix 2,475,733,648.08  44681075       55.41"
      ]
     },
     "metadata": {},
     "output_type": "display_data"
    },
    {
     "name": "stdout",
     "output_type": "stream",
     "text": [
      "\n",
      "Average ticket by entity:\n"
     ]
    },
    {
     "data": {
      "text/html": [
       "<div>\n",
       "<style scoped>\n",
       "    .dataframe tbody tr th:only-of-type {\n",
       "        vertical-align: middle;\n",
       "    }\n",
       "\n",
       "    .dataframe tbody tr th {\n",
       "        vertical-align: top;\n",
       "    }\n",
       "\n",
       "    .dataframe thead th {\n",
       "        text-align: right;\n",
       "    }\n",
       "</style>\n",
       "<table border=\"1\" class=\"dataframe\">\n",
       "  <thead>\n",
       "    <tr style=\"text-align: right;\">\n",
       "      <th></th>\n",
       "      <th>entity</th>\n",
       "      <th>tpv</th>\n",
       "      <th>tx</th>\n",
       "      <th>avg_ticket</th>\n",
       "    </tr>\n",
       "  </thead>\n",
       "  <tbody>\n",
       "    <tr>\n",
       "      <th>0</th>\n",
       "      <td>PF</td>\n",
       "      <td>5,971,815,908.87</td>\n",
       "      <td>22853844</td>\n",
       "      <td>261.30</td>\n",
       "    </tr>\n",
       "    <tr>\n",
       "      <th>1</th>\n",
       "      <td>PJ</td>\n",
       "      <td>13,470,818,904.53</td>\n",
       "      <td>123642259</td>\n",
       "      <td>108.95</td>\n",
       "    </tr>\n",
       "  </tbody>\n",
       "</table>\n",
       "</div>"
      ],
      "text/plain": [
       "  entity               tpv         tx  avg_ticket\n",
       "0     PF  5,971,815,908.87   22853844      261.30\n",
       "1     PJ 13,470,818,904.53  123642259      108.95"
      ]
     },
     "metadata": {},
     "output_type": "display_data"
    },
    {
     "name": "stdout",
     "output_type": "stream",
     "text": [
      "\n",
      "Average ticket by payment method:\n"
     ]
    },
    {
     "data": {
      "text/html": [
       "<div>\n",
       "<style scoped>\n",
       "    .dataframe tbody tr th:only-of-type {\n",
       "        vertical-align: middle;\n",
       "    }\n",
       "\n",
       "    .dataframe tbody tr th {\n",
       "        vertical-align: top;\n",
       "    }\n",
       "\n",
       "    .dataframe thead th {\n",
       "        text-align: right;\n",
       "    }\n",
       "</style>\n",
       "<table border=\"1\" class=\"dataframe\">\n",
       "  <thead>\n",
       "    <tr style=\"text-align: right;\">\n",
       "      <th></th>\n",
       "      <th>payment_method</th>\n",
       "      <th>tpv</th>\n",
       "      <th>tx</th>\n",
       "      <th>avg_ticket</th>\n",
       "    </tr>\n",
       "  </thead>\n",
       "  <tbody>\n",
       "    <tr>\n",
       "      <th>0</th>\n",
       "      <td>credit</td>\n",
       "      <td>14,432,922,548.14</td>\n",
       "      <td>45320560</td>\n",
       "      <td>318.46</td>\n",
       "    </tr>\n",
       "    <tr>\n",
       "      <th>2</th>\n",
       "      <td>uninformed</td>\n",
       "      <td>2,517,773,108.59</td>\n",
       "      <td>44737748</td>\n",
       "      <td>56.28</td>\n",
       "    </tr>\n",
       "    <tr>\n",
       "      <th>1</th>\n",
       "      <td>debit</td>\n",
       "      <td>2,491,939,156.67</td>\n",
       "      <td>56437795</td>\n",
       "      <td>44.15</td>\n",
       "    </tr>\n",
       "  </tbody>\n",
       "</table>\n",
       "</div>"
      ],
      "text/plain": [
       "  payment_method               tpv        tx  avg_ticket\n",
       "0         credit 14,432,922,548.14  45320560      318.46\n",
       "2     uninformed  2,517,773,108.59  44737748       56.28\n",
       "1          debit  2,491,939,156.67  56437795       44.15"
      ]
     },
     "metadata": {},
     "output_type": "display_data"
    }
   ],
   "source": [
    "def topn(df_in, by, n=10, ascending=False):\n",
    "    return df_in.sort_values(by=by, ascending=ascending).head(n)\n",
    "\n",
    "# TPV by dimensions\n",
    "tpv_by_entity = df.groupby(\"entity\", dropna=False)[\"amount_transacted\"].sum().reset_index(name=\"tpv\")\n",
    "tpv_by_product = df.groupby(\"product\", dropna=False)[\"amount_transacted\"].sum().reset_index(name=\"tpv\")\n",
    "tpv_by_payment = df.groupby(\"payment_method\", dropna=False)[\"amount_transacted\"].sum().reset_index(name=\"tpv\")\n",
    "\n",
    "# Average ticket by dimensions using global definition SUM(amount)/SUM(qty)\n",
    "def avg_ticket_by(group_cols):\n",
    "    agg = df.groupby(group_cols, dropna=False).agg(\n",
    "        tpv=(\"amount_transacted\",\"sum\"),\n",
    "        tx=(\"quantity_transactions\",\"sum\")\n",
    "    ).reset_index()\n",
    "    agg[\"avg_ticket\"] = agg[\"tpv\"] / agg[\"tx\"].replace(0, np.nan)\n",
    "    return agg\n",
    "\n",
    "avg_by_product = avg_ticket_by([\"product\"])\n",
    "avg_by_entity  = avg_ticket_by([\"entity\"])\n",
    "avg_by_payment = avg_ticket_by([\"payment_method\"])\n",
    "\n",
    "print(\"\\nTPV by entity (top):\")\n",
    "display(topn(tpv_by_entity, \"tpv\"))\n",
    "\n",
    "print(\"\\nTPV by product (top):\")\n",
    "display(topn(tpv_by_product, \"tpv\"))\n",
    "\n",
    "print(\"\\nTPV by payment method (top):\")\n",
    "display(topn(tpv_by_payment, \"tpv\"))\n",
    "\n",
    "print(\"\\nAverage ticket by product (top):\")\n",
    "display(topn(avg_by_product, \"avg_ticket\"))\n",
    "\n",
    "print(\"\\nAverage ticket by entity:\")\n",
    "display(topn(avg_by_entity, \"avg_ticket\", n=len(avg_by_entity)))\n",
    "\n",
    "print(\"\\nAverage ticket by payment method:\")\n",
    "display(topn(avg_by_payment, \"avg_ticket\", n=len(avg_by_payment)))"
   ]
  },
  {
   "cell_type": "markdown",
   "id": "15de8709",
   "metadata": {},
   "source": [
    "### Visualizations"
   ]
  },
  {
   "cell_type": "code",
   "execution_count": 8,
   "id": "89955fd2-151d-49ad-89e6-19a3cfa92d2b",
   "metadata": {},
   "outputs": [
    {
     "data": {
      "image/png": "[encoded data removed]",
      "text/plain": [
       "<Figure size 640x480 with 1 Axes>"
      ]
     },
     "metadata": {},
     "output_type": "display_data"
    },
    {
     "data": {
      "text/plain": [
       "<Figure size 640x480 with 0 Axes>"
      ]
     },
     "metadata": {},
     "output_type": "display_data"
    },
    {
     "data": {
      "image/png": "[encoded data removed]",
      "text/plain": [
       "<Figure size 640x480 with 1 Axes>"
      ]
     },
     "metadata": {},
     "output_type": "display_data"
    },
    {
     "data": {
      "text/plain": [
       "<Figure size 640x480 with 0 Axes>"
      ]
     },
     "metadata": {},
     "output_type": "display_data"
    },
    {
     "data": {
      "image/png": "[encoded data removed]",
      "text/plain": [
       "<Figure size 640x480 with 1 Axes>"
      ]
     },
     "metadata": {},
     "output_type": "display_data"
    },
    {
     "data": {
      "text/plain": [
       "<Figure size 640x480 with 0 Axes>"
      ]
     },
     "metadata": {},
     "output_type": "display_data"
    },
    {
     "data": {
      "image/png": "[encoded data removed]",
      "text/plain": [
       "<Figure size 640x480 with 1 Axes>"
      ]
     },
     "metadata": {},
     "output_type": "display_data"
    },
    {
     "data": {
      "text/plain": [
       "<Figure size 640x480 with 0 Axes>"
      ]
     },
     "metadata": {},
     "output_type": "display_data"
    },
    {
     "data": {
      "image/png": "[encoded data removed]",
      "text/plain": [
       "<Figure size 640x480 with 1 Axes>"
      ]
     },
     "metadata": {},
     "output_type": "display_data"
    }
   ],
   "source": [
    "# Helper to keep figures clean\n",
    "def bar(series_or_df, x=None, y=None, title=\"\", xlabel=\"\", ylabel=\"\"):\n",
    "    plt.figure()\n",
    "    if x is None and y is None:\n",
    "        series_or_df.plot(kind=\"bar\")\n",
    "    else:\n",
    "        series_or_df.plot(kind=\"bar\", x=x, y=y, legend=False)\n",
    "    plt.title(title)\n",
    "    if xlabel: plt.xlabel(xlabel)\n",
    "    if ylabel: plt.ylabel(ylabel)\n",
    "    plt.xticks(rotation=45, ha=\"right\")\n",
    "    plt.tight_layout()\n",
    "    plt.show()\n",
    "\n",
    "# 7.1 Distribution of amount_transacted\n",
    "plt.figure()\n",
    "df[\"amount_transacted\"].hist(bins=60)\n",
    "plt.title(\"Distribution — amount_transacted\")\n",
    "plt.xlabel(\"Amount (R$)\")\n",
    "plt.ylabel(\"Frequency\")\n",
    "plt.tight_layout()\n",
    "plt.show()\n",
    "\n",
    "# 7.2 TPV by product/entity/payment method\n",
    "bar(tpv_by_product.sort_values(\"tpv\", ascending=False).head(10),\n",
    "    x=\"product\", y=\"tpv\", title=\"TPV by Product (top)\",\n",
    "    xlabel=\"Product\", ylabel=\"TPV (R$)\")\n",
    "\n",
    "bar(tpv_by_entity.sort_values(\"tpv\", ascending=False),\n",
    "    x=\"entity\", y=\"tpv\", title=\"TPV by Entity\",\n",
    "    xlabel=\"Entity\", ylabel=\"TPV (R$)\")\n",
    "\n",
    "bar(tpv_by_payment.sort_values(\"tpv\", ascending=False),\n",
    "    x=\"payment_method\", y=\"tpv\", title=\"TPV by Payment Method\",\n",
    "    xlabel=\"Payment Method\", ylabel=\"TPV (R$)\")\n",
    "\n",
    "# 7.3 Avg Ticket by product\n",
    "bar(avg_by_product.sort_values(\"avg_ticket\", ascending=False).head(10),\n",
    "    x=\"product\", y=\"avg_ticket\", title=\"Average Ticket by Product (top)\",\n",
    "    xlabel=\"Product\", ylabel=\"Avg Ticket (R$)\")"
   ]
  },
  {
   "cell_type": "markdown",
   "id": "ce6475c5",
   "metadata": {},
   "source": [
    "### Temporal & Behavioral Patterns"
   ]
  },
  {
   "cell_type": "code",
   "execution_count": 9,
   "id": "cc24aa50-3758-4fd7-b35d-572e4fa45e73",
   "metadata": {},
   "outputs": [
    {
     "data": {
      "image/png": "[encoded data removed]",
      "text/plain": [
       "<Figure size 640x480 with 1 Axes>"
      ]
     },
     "metadata": {},
     "output_type": "display_data"
    },
    {
     "data": {
      "image/png": "[encoded data removed]",
      "text/plain": [
       "<Figure size 640x480 with 1 Axes>"
      ]
     },
     "metadata": {},
     "output_type": "display_data"
    }
   ],
   "source": [
    "# Weekday effect (if day present)\n",
    "if \"weekday\" in df.columns:\n",
    "    wk = df.groupby(\"weekday\")[\"amount_transacted\"].sum().reindex(\n",
    "        [\"Monday\",\"Tuesday\",\"Wednesday\",\"Thursday\",\"Friday\",\"Saturday\",\"Sunday\"]\n",
    "    )\n",
    "    bar(wk, title=\"TPV by Weekday\", ylabel=\"TPV (R$)\")\n",
    "\n",
    "# Installments effect (if column present)\n",
    "if \"installments\" in df.columns:\n",
    "    inst_tpv = df.groupby(\"installments\")[\"amount_transacted\"].sum().sort_index()\n",
    "    plt.figure()\n",
    "    inst_tpv.plot(kind=\"line\", marker=\"o\")\n",
    "    plt.title(\"TPV by Installments\")\n",
    "    plt.xlabel(\"# of Installments\")\n",
    "    plt.ylabel(\"TPV (R$)\")\n",
    "    plt.tight_layout()\n",
    "    plt.show()"
   ]
  },
  {
   "cell_type": "markdown",
   "id": "b169a2f0",
   "metadata": {},
   "source": [
    "### Findings"
   ]
  },
  {
   "cell_type": "markdown",
   "id": "ba79dad9-7241-4efb-9222-17ca7076189b",
   "metadata": {},
   "source": [
    "## 9. Findings (pre-dashboard)\n",
    "\n",
    "- Data loaded successfully and passed basic ETL checks (dtypes, nulls, duplicates).\n",
    "- Core KPIs computed: **TPV**, **Total Transactions**, **Average Ticket**, **Total Merchants**.\n",
    "- Early patterns observed:\n",
    "  - **POS/TAP** lead TPV; **Credit** dominates payment methods.\n",
    "  - **PF** tends to have a **higher average ticket** than **PJ**.\n",
    "  - TPV is concentrated in **1x–2x installments**; longer plans are marginal.\n",
    "  - Weekday pattern suggests **mid-week strength** (if applicable to the dataset range).\n",
    "\n",
    "These results informed the Looker Studio dashboard structure and the AI bot proposal (daily KPIs + anomaly alerts)."
   ]
  }
 ],
 "metadata": {
  "kernelspec": {
   "display_name": "Python 3 (ipykernel)",
   "language": "python",
   "name": "python3"
  },
  "language_info": {
   "codemirror_mode": {
    "name": "ipython",
    "version": 3
   },
   "file_extension": ".py",
   "mimetype": "text/x-python",
   "name": "python",
   "nbconvert_exporter": "python",
   "pygments_lexer": "ipython3",
   "version": "3.13.0"
  }
 },
 "nbformat": 4,
 "nbformat_minor": 5
}
